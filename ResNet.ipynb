{
 "cells": [
  {
   "cell_type": "code",
   "execution_count": null,
   "metadata": {
    "id": "D630OgxCZBsF"
   },
   "outputs": [],
   "source": [
    "import tensorflow as tf\n",
    "import numpy as np\n",
    "import cv2\n",
    "import os\n",
    "\n",
    "from tensorflow.keras.preprocessing.image import ImageDataGenerator\n",
    "\n",
    "layers = tf.keras.layers"
   ]
  },
  {
   "cell_type": "code",
   "execution_count": null,
   "metadata": {},
   "outputs": [],
   "source": [
    "os.environ[\"CUDA_DEVICE_ORDER\"] = \"PCI_BUS_ID\"  \n",
    "os.environ[\"CUDA_VISIBLE_DEVICES\"] = '0'\n",
    "os.environ[\"TF_FORCE_GPU_ALLOW_GROWTH\"] = \"true\" "
   ]
  },
  {
   "cell_type": "code",
   "execution_count": null,
   "metadata": {
    "colab": {
     "base_uri": "https://localhost:8080/"
    },
    "id": "VWjWXtGlbnaK",
    "outputId": "98de5cab-e4ab-417b-e748-3640a5fd2888"
   },
   "outputs": [],
   "source": [
    "#wget  https://s3.amazonaws.com/fast-ai-imageclas/imagenette2.tgz\n",
    "#!tar -xvf imagenette2.tgz"
   ]
  },
  {
   "cell_type": "code",
   "execution_count": null,
   "metadata": {},
   "outputs": [],
   "source": [
    "train_len = 9469\n",
    "valid_len = 3925/16"
   ]
  },
  {
   "cell_type": "code",
   "execution_count": null,
   "metadata": {
    "colab": {
     "base_uri": "https://localhost:8080/"
    },
    "id": "oyG8au5I4DOo",
    "outputId": "57db1c89-0af2-47a7-ae05-ea551d51c79f"
   },
   "outputs": [],
   "source": [
    "# create a new generator\n",
    "imagegen = ImageDataGenerator()\n",
    "# load train data\n",
    "train = imagegen.flow_from_directory(\"imagenette2/train/\", class_mode=\"sparse\", shuffle=True, batch_size=16, target_size=(224, 224))\n",
    "# load val data\n",
    "val = imagegen.flow_from_directory(\"imagenette2/val/\", class_mode=\"sparse\", shuffle=True, batch_size=16, target_size=(224, 224))"
   ]
  },
  {
   "cell_type": "code",
   "execution_count": null,
   "metadata": {
    "id": "qmLQSof_ZTMm"
   },
   "outputs": [],
   "source": [
    "class ResNet(tf.keras.Model):\n",
    "  def __init__(self):\n",
    "    super(ResNet,self).__init__()\n",
    "\n",
    "    self.conv1 = layers.Conv2D(64,7,2,activation='relu',kernel_initializer='he_normal')\n",
    "    self.z_padding_1 = layers.ZeroPadding2D(padding=(3, 3))\n",
    "    self.z_padding_2 = layers.ZeroPadding2D(padding=(1, 1))\n",
    "    self.max_pool_1 = layers.MaxPool2D(3,strides=2)\n",
    "    self.bn_1  = layers.BatchNormalization()\n",
    "    self.relu_1 = layers.Activation('relu')\n",
    "    self.global_pooling = layers.GlobalMaxPooling2D()\n",
    "    #self.fc_1 = layers.Dense(2048,activation='softmax')\n",
    "    #self.fc_2 = layers.Dense(2048,activation='softmax')\n",
    "    self.fc_class = layers.Dense(10,activation='softmax')\n",
    "\n",
    "\n",
    "  def conv_block(self,x,filers_sizes,kernel_sizes):\n",
    "\n",
    "    def batchNorm_relu(x):\n",
    "\n",
    "      x = layers.BatchNormalization()(x)\n",
    "      x = layers.Activation('relu')(x)\n",
    "\n",
    "      return x\n",
    "\n",
    "\n",
    "    #Shortcut\n",
    "    shortcut = x\n",
    "    shortcut = layers.Conv2D(kernel_sizes[2],1,strides=2,kernel_initializer='he_normal')(shortcut)\n",
    "\n",
    "    #Forward\n",
    "    x = layers.Conv2D(filers_sizes[0],kernel_sizes[0],strides=2,kernel_initializer='he_normal')(x)\n",
    "    x = batchNorm_relu(x)\n",
    "    x = layers.Conv2D(filers_sizes[1],kernel_sizes[1],padding='same',kernel_initializer='he_normal')(x)\n",
    "    x = batchNorm_relu(x)\n",
    "    x = layers.Conv2D(filers_sizes[2],kernel_sizes[2],kernel_initializer='he_normal')(x)\n",
    "    x = layers.BatchNormalization()(x)\n",
    "    x = layers.add([x,shortcut]) \n",
    "    x = layers.Activation('relu')(x)\n",
    "\n",
    "    return x\n",
    "\n",
    "  def identity_block(self,x,filers_sizes,kernel_sizes):\n",
    "\n",
    "    def batchNorm_relu(x):\n",
    "      # BATH NORMALIZATION + RELU \n",
    "      x = layers.BatchNormalization()(x)\n",
    "      x = layers.Activation('relu')(x)\n",
    "\n",
    "      return x\n",
    "\n",
    "\n",
    "    #Shortcut\n",
    "    shortcut = x\n",
    "\n",
    "    #Forward\n",
    "    x = layers.Conv2D(filers_sizes[0],kernel_sizes[0],kernel_initializer='he_normal')(x)\n",
    "    x = batchNorm_relu(x)\n",
    "    x = layers.Conv2D(filers_sizes[1],kernel_sizes[1],padding='same',kernel_initializer='he_normal')(x)\n",
    "    x = batchNorm_relu(x)\n",
    "    x = layers.Conv2D(filers_sizes[2],kernel_sizes[2],kernel_initializer='he_normal')(x)\n",
    "    x = layers.BatchNormalization()(x)\n",
    "    x = layers.add([x,shortcut]) \n",
    "    x = layers.Activation('relu')(x)\n",
    "\n",
    "    return x\n",
    "\n",
    "  def call(self,x):\n",
    "\n",
    "    x = self.z_padding_1(x)\n",
    "    x = self.conv1(x)\n",
    "    x = self.bn_1(x)\n",
    "    x = self.relu_1(x)\n",
    "    x = self.z_padding_2(x)   \n",
    "    x = self.max_pool_1(x)\n",
    "    \n",
    "    x = self.conv_block(x,[64,64,256],[1,3,1])\n",
    "    x = self.identity_block(x,[64,64,256],[1,3,1])\n",
    "    x = self.identity_block(x,[64,64,256],[1,3,1])\n",
    "\n",
    "    x = self.conv_block(x,[128,128,512],[1,3,1])\n",
    "    x = self.identity_block(x,[128,128,512],[1,3,1])\n",
    "    x = self.identity_block(x,[128,128,512],[1,3,1])\n",
    "    x = self.identity_block(x,[128,128,512],[1,3,1])\n",
    "\n",
    "    x = self.conv_block(x,[256,256,1024],[1,3,1])\n",
    "    x = self.identity_block(x,[256,256,1024],[1,3,1])\n",
    "    x = self.identity_block(x,[256,256,1024],[1,3,1])\n",
    "    x = self.identity_block(x,[256,256,1024],[1,3,1])\n",
    "    x = self.identity_block(x,[256,256,1024],[1,3,1])\n",
    "    x = self.identity_block(x,[256,256,1024],[1,3,1])\n",
    "\n",
    "    x = self.conv_block(x,[512,512,2048],[1,3,1])\n",
    "    x = self.identity_block(x,[512,512,2048],[1,3,1])\n",
    "    x = self.identity_block(x,[512,512,2048],[1,3,1])\n",
    "\n",
    "    x = self.global_pooling(x)\n",
    "    #x = self.fc_1(x)\n",
    "    #x = self.fc_2(x)\n",
    "    x = self.fc_class(x)\n",
    "\n",
    "    return x"
   ]
  },
  {
   "cell_type": "code",
   "execution_count": null,
   "metadata": {
    "id": "RQNWCxJAZuuG"
   },
   "outputs": [],
   "source": [
    "model = ResNet()"
   ]
  },
  {
   "cell_type": "code",
   "execution_count": null,
   "metadata": {
    "id": "2P-upFNB4jcr"
   },
   "outputs": [],
   "source": [
    "loss_object = tf.keras.losses.SparseCategoricalCrossentropy(from_logits=False)\n",
    "\n",
    "optimizer   = tf.keras.optimizers.SGD(lr=0.01,momentum=0.9)\n",
    "\n",
    "train_loss = tf.keras.metrics.Mean(name='train_loss')\n",
    "train_accuracy = tf.keras.metrics.SparseCategoricalAccuracy(name='train_accuracy')\n",
    "\n",
    "test_loss = tf.keras.metrics.Mean(name='test_loss')\n",
    "test_accuracy = tf.keras.metrics.SparseCategoricalAccuracy(name='test_accuracy')"
   ]
  },
  {
   "cell_type": "code",
   "execution_count": null,
   "metadata": {
    "id": "InJHNXaUm5B8"
   },
   "outputs": [],
   "source": [
    "\n",
    "def train_step(images, labels):\n",
    "  with tf.GradientTape() as tape:\n",
    "    # training=True is only needed if there are layers with different\n",
    "    # behavior during training versus inference (e.g. Dropout).\n",
    "    predictions = model(images, training=True)\n",
    "    loss = loss_object(labels, predictions)\n",
    "    \n",
    "  gradients = tape.gradient(loss, model.trainable_variables)\n",
    "  optimizer.apply_gradients(zip(gradients, model.trainable_variables))\n",
    "\n",
    "  train_loss(loss)\n",
    "  train_accuracy(labels, predictions)"
   ]
  },
  {
   "cell_type": "code",
   "execution_count": null,
   "metadata": {
    "id": "IkfyOtvJ4NzL"
   },
   "outputs": [],
   "source": [
    "\n",
    "def test_step(images, labels):\n",
    "  # training=False is only needed if there are layers with different\n",
    "  # behavior during training versus inference (e.g. Dropout).\n",
    "  predictions = model(images, training=False)\n",
    "  t_loss = loss_object(labels, predictions)\n",
    "\n",
    "  test_loss(t_loss)\n",
    "  test_accuracy(labels, predictions)"
   ]
  },
  {
   "cell_type": "code",
   "execution_count": null,
   "metadata": {
    "colab": {
     "base_uri": "https://localhost:8080/"
    },
    "id": "-dhnQuYb4Pu5",
    "outputId": "d1c93dbe-fd79-453f-e93e-3575ff6f2b2a"
   },
   "outputs": [],
   "source": [
    "EPOCHS = 100\n",
    "ITER = 0\n",
    "ITER_MAX = 246\n",
    "\n",
    "for epoch in range(EPOCHS):\n",
    "\n",
    "  # Reset the metrics at the start of the next epoch\n",
    "  train_loss.reset_states()\n",
    "  train_accuracy.reset_states()\n",
    "  test_loss.reset_states()\n",
    "  test_accuracy.reset_states()\n",
    "\n",
    "  for images, labels in train:\n",
    "    train_step(images, labels)\n",
    "    ITER += 16\n",
    "    if ITER >= ITER_MAX:\n",
    "        ITER = 0\n",
    "        break \n",
    "\n",
    "  for test_images, test_labels in val:\n",
    "    test_step(test_images, test_labels)\n",
    "    ITER += 16\n",
    "    if ITER >= ITER_MAX:\n",
    "        ITER = 0\n",
    "        break \n",
    "\n",
    "  print(\n",
    "    f'Epoch {epoch + 1}, '\n",
    "    f'Loss: {train_loss.result()}, '\n",
    "    f'Accuracy: {train_accuracy.result() * 100}, '\n",
    "    f'Test Loss: {test_loss.result()}, '\n",
    "    f'Test Accuracy: {test_accuracy.result() * 100}'\n",
    "  )"
   ]
  }
 ],
 "metadata": {
  "accelerator": "TPU",
  "colab": {
   "collapsed_sections": [],
   "name": "ResNet.ipynb",
   "provenance": []
  },
  "kernelspec": {
   "display_name": "Python 3",
   "language": "python",
   "name": "python3"
  },
  "language_info": {
   "codemirror_mode": {
    "name": "ipython",
    "version": 3
   },
   "file_extension": ".py",
   "mimetype": "text/x-python",
   "name": "python",
   "nbconvert_exporter": "python",
   "pygments_lexer": "ipython3",
   "version": "3.6.13"
  }
 },
 "nbformat": 4,
 "nbformat_minor": 1
}
